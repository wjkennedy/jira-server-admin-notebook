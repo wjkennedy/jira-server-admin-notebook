{
 "cells": [
  {
   "cell_type": "markdown",
   "id": "7692560e",
   "metadata": {},
   "source": [
    "# Jira Server Migration Assistant Prototype\n",
    "Developed by Jupytyzer GPT for A9 Consulting Group, Inc.  \n",
    "This notebook assists with Jira Server migrations by exporting data and preparing the environment.  \n",
    "Ensure Jupyter Lab is installed for an optimal experience.  \n",
    "![A9 Consulting Group, Inc.](http://a9group.net/a9logo.png)  \n"
   ]
  },
  {
   "cell_type": "code",
   "execution_count": null,
   "id": "3de09021",
   "metadata": {},
   "outputs": [],
   "source": [
    "# Install Jupyter Lab if not installed (uncomment the next line)\n",
    "# !pip install jupyterlab\n"
   ]
  },
  {
   "cell_type": "markdown",
   "id": "26c26dbb",
   "metadata": {},
   "source": [
    "## Environment Setup"
   ]
  },
  {
   "cell_type": "code",
   "execution_count": null,
   "id": "1dbb55bd",
   "metadata": {},
   "outputs": [],
   "source": [
    "import os\n",
    "import datetime\n",
    "import tarfile\n",
    "from jira import JIRA\n",
    "import pandas as pd\n",
    "\n",
    "# Load Jupyter AI magics\n",
    "%load_ext jupyter_ai\n",
    "\n",
    "# Set the working directory to JIRA_HOME (adjust path as necessary)\n",
    "# os.chdir('/path/to/jira/home')\n",
    "\n",
    "# Display current working directory to verify correct JIRA_HOME\n",
    "print(\"Current working directory:\", os.getcwd())"
   ]
  },
  {
   "cell_type": "markdown",
   "id": "e633f709",
   "metadata": {},
   "source": [
    "## Configuring OAuth 1.0 Authorization\n",
    "Replace the placeholders below with your actual OAuth credentials."
   ]
  },
  {
   "cell_type": "code",
   "execution_count": null,
   "id": "e058553b",
   "metadata": {},
   "outputs": [],
   "source": [
    "consumer_key = 'YOUR_CONSUMER_KEY'\n",
    "consumer_secret = 'YOUR_CONSUMER_SECRET'\n",
    "access_token = 'YOUR_ACCESS_TOKEN'\n",
    "access_token_secret = 'YOUR_ACCESS_TOKEN_SECRET'\n",
    "\n",
    "# Initialize the JIRA client with OAuth\n",
    "jira = JIRA(server='http://your-jira-server', oauth={\n",
    "    'access_token': access_token,\n",
    "    'access_token_secret': access_token_secret,\n",
    "    'consumer_key': consumer_key,\n",
    "    'key_cert': consumer_secret\n",
    "})\n",
    "\n",
    "print(\"JIRA client successfully initialized with OAuth 1.0\")"
   ]
  },
  {
   "cell_type": "markdown",
   "id": "0b3ce8df",
   "metadata": {},
   "source": [
    "## Demonstration of Listing All Jira Projects"
   ]
  },
  {
   "cell_type": "code",
   "execution_count": null,
   "id": "0ce6a9eb",
   "metadata": {},
   "outputs": [],
   "source": [
    "projects = jira.projects()\n",
    "project_names = [project.name for project in projects]\n",
    "print(\"Listing all Jira projects:\")\n",
    "for name in project_names:\n",
    "    print(name)"
   ]
  },
  {
   "cell_type": "markdown",
   "id": "734e52b9",
   "metadata": {},
   "source": [
    "## System Operations for Backups\n",
    "This is a placeholder for creating a backup of the Jira directory."
   ]
  },
  {
   "cell_type": "code",
   "execution_count": null,
   "id": "179de0d4",
   "metadata": {},
   "outputs": [],
   "source": [
    "# Define the backup filename with datestamp\n",
    "backup_filename = datetime.datetime.now().strftime(\"jira-backup-%Y-%m-%d.tar.bz2\")\n",
    "\n",
    "# Create a tarball of the Jira directory\n",
    "with tarfile.open(backup_filename, \"w:bz2\") as tar:\n",
    "    tar.add('.', arcname=os.path.basename('.'))\n",
    "\n",
    "print(f\"Backup created successfully: {backup_filename}\")"
   ]
  },
  {
   "cell_type": "markdown",
   "id": "32b17ae4",
   "metadata": {},
   "source": [
    "## Jupyter AI Magics Demonstration\n",
    "Replace `author` with the desired name."
   ]
  },
  {
   "cell_type": "code",
   "execution_count": null,
   "id": "a0efeda1",
   "metadata": {},
   "outputs": [],
   "source": [
    "author = \"Charles Atlas\"\n",
    "# Below line is a placeholder for Jupyter AI magic usage, which cannot be executed as is.\n",
    "# %%ai chatgpt\n",
    "# print(f\"Write a simple bug report in the style of {author}\")"
   ]
  }
 ],
 "metadata": {},
 "nbformat": 4,
 "nbformat_minor": 5
}
